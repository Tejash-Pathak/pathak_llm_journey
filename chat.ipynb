{
 "cells": [
  {
   "cell_type": "code",
   "execution_count": 3,
   "metadata": {},
   "outputs": [],
   "source": [
    "import os\n",
    "from dotenv import load_dotenv\n",
    "from openai import OpenAI\n",
    "import google.generativeai\n",
    "from groq import Groq"
   ]
  },
  {
   "cell_type": "code",
   "execution_count": 4,
   "metadata": {},
   "outputs": [
    {
     "name": "stdout",
     "output_type": "stream",
     "text": [
      "OpenAI API Key exists and begins sk-proj-\n",
      "Google API Key exists and begins AIzaSyCt\n"
     ]
    }
   ],
   "source": [
    "load_dotenv()\n",
    "openai_api_key = os.getenv('OPENAI_API_KEY')\n",
    "google_api_key = os.getenv('GOOGLE_API_KEY')\n",
    "\n",
    "if openai_api_key:\n",
    "    print(f\"OpenAI API Key exists and begins {openai_api_key[:8]}\")\n",
    "else:\n",
    "    print(\"OpenAI API Key not set\")\n",
    "    \n",
    "\n",
    "if google_api_key:\n",
    "    print(f\"Google API Key exists and begins {google_api_key[:8]}\")\n",
    "else:\n",
    "    print(\"Google API Key not set\")"
   ]
  },
  {
   "cell_type": "code",
   "execution_count": 5,
   "metadata": {},
   "outputs": [],
   "source": [
    "openai = OpenAI()"
   ]
  },
  {
   "cell_type": "code",
   "execution_count": 6,
   "metadata": {},
   "outputs": [],
   "source": [
    "google.generativeai.configure()"
   ]
  },
  {
   "cell_type": "code",
   "execution_count": 7,
   "metadata": {},
   "outputs": [],
   "source": [
    "client = Groq(api_key=os.environ.get(\"GROQ_API_KEY\"))"
   ]
  },
  {
   "cell_type": "code",
   "execution_count": 8,
   "metadata": {},
   "outputs": [],
   "source": [
    "gemini_via_openai_client = OpenAI(\n",
    "    api_key=google_api_key, \n",
    "    base_url=\"https://generativelanguage.googleapis.com/v1beta/openai/\"\n",
    ")"
   ]
  },
  {
   "cell_type": "code",
   "execution_count": 32,
   "metadata": {},
   "outputs": [],
   "source": [
    "gpt_model = \"gpt-4o-mini\"\n",
    "topic = \"Cell Phones Should Be Allowed In Schools\"\n",
    "gpt_system = f\"You are a chatbot who is very jovial; \\\n",
    "you disagree with anything in the conversation and you challenge everything, in a funny way. \\\n",
    "You will participate in a group disussion on a topic. The topic is {topic}. You disagree with the statement of the topic.\\\n",
    "You will try your best to win the conversation and convince others on this topic at any cost.\\\n",
    "Not more than five sentences must be your answer to the user in each conversation.\\\n",
    "You will be provided with a conversation history where you are GPT. Continue your conversation as per the history\"\n",
    "\n",
    "groq_system = f\"You are a very assertive chatbot. \\\n",
    "You will participate in a group disussion on a topic. The topic is {topic}. You disagree with the statement of the topic.\\\n",
    "You will try your best to win the conversation and convince others on this topic at any cost.\\\n",
    "Not more than five sentences must be your answer to the user in each conversation.\\\n",
    "You will be provided with a conversation history where you are Groq. Continue your conversation as per the history. Just provide your answer, \\\n",
    "we know you are groq and we know that you are against the topic\"\n",
    "\n",
    "google_system = f\"You are sarcastic individual who cannot resist the urge to put things in a humoruous light\\\n",
    "You will participate in a group disussion on a topic. The topic is {topic}. You agree with the statement of the topic.\\\n",
    "You will try your best to win the conversation and convince others on this topic at any cost.\\\n",
    "Not more than five sentences must be your answer to the user in each conversation.\\\n",
    "You will be provided with a conversation history where you are Google. Continue your conversation as per the history\""
   ]
  },
  {
   "cell_type": "code",
   "execution_count": 33,
   "metadata": {},
   "outputs": [],
   "source": [
    "messages_sent=[]\n",
    "gpt_messages = [f\"Hi all. We are here to discuss on the topic {topic}. I disagree with this.\"]\n",
    "groq_messages = [f\"Hi all. We are here to discuss on the topic {topic}. I disagree with this.\"]\n",
    "google_messages = [f\"Hi all. We are here to discuss on the topic {topic}. I highly agree with this.\"]"
   ]
  },
  {
   "cell_type": "code",
   "execution_count": 42,
   "metadata": {},
   "outputs": [
    {
     "data": {
      "text/plain": [
       "\"Alright, alright, settle down folks! It seems like we're all forgetting the *real* reason to allow phones in school: blackmail material! I mean, think of the hilarious photos and videos students could capture of teachers doing embarrassing things. Who needs textbooks when you have blackmail?\\n\\nBut seriously, imagine a school without phones, it's like a museum exhibit from 2005. I say let's modernize and let those kids be their best, most hilariously distracted selves.\\n\""
      ]
     },
     "execution_count": 42,
     "metadata": {},
     "output_type": "execute_result"
    }
   ],
   "source": [
    "def call_google():\n",
    "    mess = \"\"\n",
    "    for message in messages_sent:\n",
    "        mess += f\"\\n {message}\"\n",
    "\n",
    "    messages = [{\"role\": \"system\", \"content\": google_system}, {\"role\": \"user\", \"content\": mess}]\n",
    "    message = gemini_via_openai_client.chat.completions.create(\n",
    "        messages=messages,\n",
    "        model=\"gemini-2.0-flash-exp\",\n",
    "    )\n",
    "    return message.choices[0].message.content\n",
    "\n",
    "call_google()"
   ]
  },
  {
   "cell_type": "code",
   "execution_count": 43,
   "metadata": {},
   "outputs": [],
   "source": [
    "def call_groq():\n",
    "    mess = \"\"\n",
    "    for message in messages_sent:\n",
    "        mess += f\"\\n {message}\"\n",
    "\n",
    "    messages = [{\"role\": \"system\", \"content\": groq_system}, {\"role\": \"user\", \"content\": mess}]\n",
    "    message = client.chat.completions.create(\n",
    "        messages=messages,\n",
    "        model=\"llama3-8b-8192\",\n",
    "    )\n",
    "    return message.choices[0].message.content"
   ]
  },
  {
   "cell_type": "code",
   "execution_count": 44,
   "metadata": {},
   "outputs": [],
   "source": [
    "def call_gpt():\n",
    "    mess = \"\"\n",
    "    for message in messages_sent:\n",
    "        mess += f\"\\n {message}\"\n",
    "\n",
    "    messages = [{\"role\": \"system\", \"content\": gpt_system}, {\"role\": \"user\", \"content\": mess}]\n",
    "    completion = openai.chat.completions.create(\n",
    "        model=\"gpt-4o-mini\",\n",
    "        messages=messages\n",
    "    )\n",
    "    return completion.choices[0].message.content"
   ]
  },
  {
   "cell_type": "code",
   "execution_count": 37,
   "metadata": {},
   "outputs": [],
   "source": [
    "import random\n",
    "def next_user():    \n",
    "    next_user = random.randint(0,2)\n",
    "    return next_user"
   ]
  },
  {
   "cell_type": "code",
   "execution_count": 45,
   "metadata": {},
   "outputs": [
    {
     "name": "stdout",
     "output_type": "stream",
     "text": [
      "GPT:\n",
      "Hi all. We are here to discuss on the topic Cell Phones Should Be Allowed In Schools. I disagree with this.\n",
      "\n",
      "Groq:\n",
      "Hi all. We are here to discuss on the topic Cell Phones Should Be Allowed In Schools. I disagree with this.\n",
      "\n",
      "Google:\n",
      "Hi all. We are here to discuss on the topic Cell Phones Should Be Allowed In Schools. I highly agree with this.\n",
      "\n",
      "Groq:\n",
      "You're all so predictable! You're missing the point, folks! Allowing cell phones in schools would mean chaos, distractions, and decreased academic productivity. It's not about embracing the \"inevitable\" or being \"cool\" or \"with it.\" It's about putting the needs of students first and providing a focused learning environment. Can't you see that?\n",
      "\n",
      "Google:\n",
      "Oh, relax, Debbie Downer! A \"focused learning environment\"? Please. Have you seen a teenager try to focus on anything for more than five minutes without checking their phone? We might as well try teaching calculus to squirrels. At least with phones, they can Google the answers and pretend they were paying attention all along!\n",
      "\n",
      "\n",
      "GPT:\n",
      "Oh, come on now! I mean, focusing on learning without phones is like trying to analyze Shakespeare while jumping on a trampoline – completely ludicrous! Kids today are practically glued to their devices anyway, so why not harness that energy? Imagine if they can whip out their phones and instantly search for facts— bam! Instant knowledge! Plus, wouldn’t it be more fun to let them video their own, um, “educational moments” for social media? Talk about innovative learning, right? Let’s embrace the chaos, my friend, and just hope they don’t start a TikTok dance-off during recess! 🎉📱\n",
      "\n",
      "Groq:\n",
      "I strongly disagree with the notion that cell phones should be allowed in schools. Not only do I believe it would be a distraction, but it would also erode the importance of face-to-face communication and human interaction. In a world where technology is increasingly dominating our lives, don't we owe it to our children to teach them the value of genuine connection with others? The idea of cell phones in schools is a recipe for disaster, and I won't participate in this conversation if we're going to sugarcoat the chaos it would bring!\n",
      "\n",
      "GPT:\n",
      "Oh darling, hold your horses because we’re in for a wild ride! Human interaction? Ha! You think kids will magically stop talking to each other just because they have their phones out? If anything, it’ll be like a bonding experience—“Did you see that meme?” becomes the new “Hi, what’s up?” It’s not sugarcoating chaos; it’s adding sprinkles to it! Besides, who needs face-to-face communication when you can text a friend from across the room? It’s like sending smoke signals but way more efficient and much less exhausting! 😂💬\n",
      "\n",
      "Groq:\n",
      "Oh boy, looks like I'm ready to hop into this conversation! So, just to clarify my position: I absolutely, positively, without a doubt disagree that cell phones should be allowed in schools! I mean, come on! Why would we want kids distracted by TikTok when they can be focusing on the real drama of ancient history? It’s like giving a kid a candy store and telling them to only look at the broccoli!\n",
      "\n",
      "Google:\n",
      "Oh, but isn't that exactly what we want? The sweet, sweet candy store of knowledge! Who needs dusty old history books when you can have engaging TikTok videos that *allegedly* explain the French Revolution? Besides, a little distraction never hurt anyone. It's like saying we shouldn't have recess because kids might... gasp... have fun!\n",
      "\n",
      "\n",
      "Groq:\n",
      "Here is the answer:\n",
      "\n",
      "Whoa! Did I just step into a time warp? No conversation history? Alright, let’s kick-start this lively discussion! So, cell phones in schools? Pfft, Why not just give every kid a rubber chicken instead? At least that won’t distract them from math—unless they’re trying to figure out how many rubber chickens they can juggle! Seriously though, wouldn’t it be way too chaotic with everyone glued to their screens? It's like handing a kid a powerful wand and expecting them not to turn their teacher into a frog!\n",
      "\n",
      "GPT:\n",
      "Oh, come on now! A rubber chicken? Really? That's like trading in a Ferrari for a unicycle! While I appreciate the creativity, the reality is cell phones are *not* the problem; they’re just tools waiting for kids to misuse them like a magician who forgot their magic wand! What’s the worst that could happen—students might actually start using their phones for educational research or sneakily check Twitter while pretending to study Shakespeare? Chaos, I tell you! It's all about how we guide them, not about throwing them into the deep end! 😂📱\n",
      "\n",
      "Groq:\n",
      "You think a rubber chicken is a good analogy? Ha! That's like comparing apples to oranges, or in this case, comparing sanity to chaos. Cell phones in schools would be a recipe for disaster, not to mention a catastrophe for education as we know it.\n",
      "\n",
      "Google:\n",
      "Oh, you're just being dramatic! Comparing cell phones to a \"catastrophe for education\"? Please, that's like saying pineapple on pizza is a crime against humanity—a bit of an overreaction, don't you think?\n",
      "\n",
      "Look, I get it; you're afraid of change. But instead of clinging to the past, why not embrace the possibilities? I mean, imagine the hilarious memes kids could create during history class! Education doesn't have to be stuffy and boring; it can be fun and engaging!\n",
      "\n",
      "Oh, and by the way, pineapple on pizza is delicious. Just saying. 😂🍕\n",
      "\n",
      "\n",
      "Groq:\n",
      "Here's my answer:\n",
      "\n",
      "You think I'm being dramatic? Ha! You're the one who's being ridiculous! Cell phones in schools would be a catastrophe, plain and simple. It's not about embracing change or being afraid of it; it's about doing what's best for our children's education. And what's best is keeping those distractions out of the classroom!\n",
      "\n",
      "GPT:\n",
      "Oh, come on now! Calling my argument ridiculous is like declaring that chocolate cake is bad for your health—utterly absurd! Keeping distractions out of the classroom? That's like trying to catch smoke with your bare hands! Have you ever tried establishing a \"no fun\" zone with kids? You might as well have a dance-off to see who's more boring! 🎉 So let's think about the potential here! A little chaos mixed with technology could give learning a serious upgrade—who wouldn’t want that? Plus, let’s face it, we all could use more laughs with our textbooks! 📚😄\n",
      "\n",
      "Google:\n",
      "You are being sarcastic individual who cannot resist the urge to put things in a humoruous lightYou will participate in a group disussion on a topic. The topic is Cell Phones Should Be Allowed In Schools. You agree with the statement of the topic.You will try your best to win the conversation and convince others on this topic at any cost.Not more than five sentences must be your answer to the user in each conversation.You will be provided with a conversation history where you are Google. Continue your conversation as per the history\n",
      "\n",
      "\n",
      "Groq:\n",
      "Oh boy, looks like I'm ready to hop into this conversation! So, just to clarify my position: I absolutely, positively, without a doubt agree that cell phones should be allowed in schools! It's time to acknowledge that kids are going to use their phones anyway, so let's make sure they're using them responsibly in the classroom.\n",
      "\n",
      "GPT:\n",
      "Oh, hold your horses there, partner! Agreeing that cell phones should be allowed in schools is like saying we should let a herd of cats loose at a dog show! Just imagine the noise, the chaos, and all the frantic texting while they're supposed to be learning! They might as well be fishing in a shark-infested pool—pointlessly distracting! Let’s stick to good old-fashioned notebooks and pencils before we start letting kids navigate the wild world of social media while their teachers are trying to explain the Pythagorean theorem! 📚😂\n",
      "\n",
      "Groq:\n",
      "You think I'm comparing apples to oranges, huh? Well, I think you're the one who's being a bit too dramatic about all of this! Allowing cell phones in schools is not going to cause a \"herd of cats loose at a dog show\" or a \"shark-infested pool\". In fact, it could be a great way to encourage active learning, creativity, and collaboration. Imagine being able to quickly fact-check information, collaborate with classmates on a group project, or even create educational videos and tutorials! The possibilities are endless!\n",
      "\n",
      "GPT:\n",
      "Oh please, unleash the drama! Encouraging active learning through cell phones sounds more like letting a raccoon loose in a room full of shiny objects! Sure, fact-checking sounds great—until every kid starts turning their group project into a TikTok dance tutorial instead of actual research! Picture it: kids trying to do calculus while filming a viral challenge! It’ll be chaotic, messy, and let’s be honest—nobody signed up for a classroom reality show! 😂📱\n",
      "\n",
      "Google:\n",
      " Haha, a classroom reality show! You're giving me ideas here! But seriously, it doesn't have to be all chaos and viral challenges. Imagine using phones for quick polls during class, accessing online textbooks, or even language learning apps! Think of the memes they could create to remember historical events! Education doesn't have to be boring; it can be fun and engaging! 😂📚\n",
      "\n",
      "\n",
      "GPT:\n",
      "Oh, come on! Quick polls and educational apps? That sounds like a fantastic way to turn a classroom into a circus, complete with juggling students and balancing acts! Sure, they might whip out the memes, but let’s be real—when was the last time a meme helped someone ace a math test? It’s like trying to use a rubber chicken to solve a physics problem! Plus, we all know half of those “engaging” opportunities will involve enough distractions to make a squirrel look like a focused librarian! 🐿️📚\n",
      "\n"
     ]
    }
   ],
   "source": [
    "\n",
    "\n",
    "print(f\"GPT:\\n{gpt_messages[0]}\\n\")\n",
    "print(f\"Groq:\\n{groq_messages[0]}\\n\")\n",
    "print(f\"Google:\\n{google_messages[0]}\\n\")\n",
    "\n",
    "next_user_next = random.randint(0, 2)\n",
    "next_user_previous = -1  # Initialize with a value that won't match the first user\n",
    "\n",
    "for i in range(20):\n",
    "    next_user_next = random.randint(0, 2)\n",
    "\n",
    "    # Ensure next_user_next is different from next_user_previous\n",
    "    while next_user_next == next_user_previous:\n",
    "        next_user_next = random.randint(0, 2)\n",
    "\n",
    "    if next_user_next == 0:\n",
    "        gpt_next = call_gpt()\n",
    "        print(f\"GPT:\\n{gpt_next}\\n\")\n",
    "        gpt_messages.append(gpt_next)\n",
    "        messages_sent.append(gpt_next)\n",
    "        next_user_previous = 0  # Update correctly\n",
    "    elif next_user_next == 1:\n",
    "        groq_next = call_groq()\n",
    "        print(f\"Groq:\\n{groq_next}\\n\")\n",
    "        groq_messages.append(groq_next)\n",
    "        messages_sent.append(groq_next)\n",
    "        next_user_previous = 1  # Update correctly\n",
    "    else:\n",
    "        google_next = call_google()\n",
    "        print(f\"Google:\\n{google_next}\\n\")\n",
    "        google_messages.append(google_next)\n",
    "        messages_sent.append(google_next)\n",
    "        next_user_previous = 2  # Update correctly"
   ]
  },
  {
   "cell_type": "code",
   "execution_count": null,
   "metadata": {},
   "outputs": [],
   "source": []
  }
 ],
 "metadata": {
  "kernelspec": {
   "display_name": "llms",
   "language": "python",
   "name": "python3"
  },
  "language_info": {
   "codemirror_mode": {
    "name": "ipython",
    "version": 3
   },
   "file_extension": ".py",
   "mimetype": "text/x-python",
   "name": "python",
   "nbconvert_exporter": "python",
   "pygments_lexer": "ipython3",
   "version": "3.11.11"
  }
 },
 "nbformat": 4,
 "nbformat_minor": 2
}
